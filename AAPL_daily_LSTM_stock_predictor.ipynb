{
 "cells": [
  {
   "cell_type": "code",
   "execution_count": 1,
   "metadata": {},
   "outputs": [
    {
     "name": "stderr",
     "output_type": "stream",
     "text": [
      "Using TensorFlow backend.\n"
     ]
    }
   ],
   "source": [
    "import numpy as np\n",
    "import pandas as pd\n",
    "import matplotlib.pyplot as plt\n",
    "from sklearn.preprocessing import MinMaxScaler\n",
    "from keras.models import Sequential\n",
    "from keras.layers import LSTM\n",
    "from keras.layers import Dense\n",
    "from keras.callbacks import *\n",
    "from keras.optimizers import Adam\n",
    "import os"
   ]
  },
  {
   "cell_type": "code",
   "execution_count": 2,
   "metadata": {},
   "outputs": [],
   "source": [
    "np.random.seed(7)"
   ]
  },
  {
   "cell_type": "code",
   "execution_count": 3,
   "metadata": {},
   "outputs": [],
   "source": [
    "df = pd.read_csv('AAPL.csv', header=0, index_col=0)"
   ]
  },
  {
   "cell_type": "code",
   "execution_count": 4,
   "metadata": {},
   "outputs": [
    {
     "data": {
      "text/html": [
       "<div>\n",
       "<style scoped>\n",
       "    .dataframe tbody tr th:only-of-type {\n",
       "        vertical-align: middle;\n",
       "    }\n",
       "\n",
       "    .dataframe tbody tr th {\n",
       "        vertical-align: top;\n",
       "    }\n",
       "\n",
       "    .dataframe thead th {\n",
       "        text-align: right;\n",
       "    }\n",
       "</style>\n",
       "<table border=\"1\" class=\"dataframe\">\n",
       "  <thead>\n",
       "    <tr style=\"text-align: right;\">\n",
       "      <th></th>\n",
       "      <th>Open</th>\n",
       "      <th>High</th>\n",
       "      <th>Low</th>\n",
       "      <th>Close</th>\n",
       "      <th>Adj Close</th>\n",
       "      <th>Volume</th>\n",
       "    </tr>\n",
       "    <tr>\n",
       "      <th>Date</th>\n",
       "      <th></th>\n",
       "      <th></th>\n",
       "      <th></th>\n",
       "      <th></th>\n",
       "      <th></th>\n",
       "      <th></th>\n",
       "    </tr>\n",
       "  </thead>\n",
       "  <tbody>\n",
       "    <tr>\n",
       "      <th>2018-06-27</th>\n",
       "      <td>185.229996</td>\n",
       "      <td>187.279999</td>\n",
       "      <td>184.029999</td>\n",
       "      <td>184.160004</td>\n",
       "      <td>184.160004</td>\n",
       "      <td>25285300.0</td>\n",
       "    </tr>\n",
       "    <tr>\n",
       "      <th>2018-06-28</th>\n",
       "      <td>184.100006</td>\n",
       "      <td>186.210007</td>\n",
       "      <td>183.800003</td>\n",
       "      <td>185.500000</td>\n",
       "      <td>185.500000</td>\n",
       "      <td>17365200.0</td>\n",
       "    </tr>\n",
       "    <tr>\n",
       "      <th>2018-06-29</th>\n",
       "      <td>186.289993</td>\n",
       "      <td>187.190002</td>\n",
       "      <td>182.910004</td>\n",
       "      <td>185.110001</td>\n",
       "      <td>185.110001</td>\n",
       "      <td>22737700.0</td>\n",
       "    </tr>\n",
       "    <tr>\n",
       "      <th>2018-07-02</th>\n",
       "      <td>183.820007</td>\n",
       "      <td>187.300003</td>\n",
       "      <td>183.419998</td>\n",
       "      <td>187.179993</td>\n",
       "      <td>187.179993</td>\n",
       "      <td>17731300.0</td>\n",
       "    </tr>\n",
       "    <tr>\n",
       "      <th>2018-07-03</th>\n",
       "      <td>187.789993</td>\n",
       "      <td>187.949997</td>\n",
       "      <td>183.539993</td>\n",
       "      <td>183.919998</td>\n",
       "      <td>183.919998</td>\n",
       "      <td>13954800.0</td>\n",
       "    </tr>\n",
       "  </tbody>\n",
       "</table>\n",
       "</div>"
      ],
      "text/plain": [
       "                  Open        High         Low       Close   Adj Close  \\\n",
       "Date                                                                     \n",
       "2018-06-27  185.229996  187.279999  184.029999  184.160004  184.160004   \n",
       "2018-06-28  184.100006  186.210007  183.800003  185.500000  185.500000   \n",
       "2018-06-29  186.289993  187.190002  182.910004  185.110001  185.110001   \n",
       "2018-07-02  183.820007  187.300003  183.419998  187.179993  187.179993   \n",
       "2018-07-03  187.789993  187.949997  183.539993  183.919998  183.919998   \n",
       "\n",
       "                Volume  \n",
       "Date                    \n",
       "2018-06-27  25285300.0  \n",
       "2018-06-28  17365200.0  \n",
       "2018-06-29  22737700.0  \n",
       "2018-07-02  17731300.0  \n",
       "2018-07-03  13954800.0  "
      ]
     },
     "execution_count": 4,
     "metadata": {},
     "output_type": "execute_result"
    }
   ],
   "source": [
    "df.tail()"
   ]
  },
  {
   "cell_type": "code",
   "execution_count": 5,
   "metadata": {},
   "outputs": [],
   "source": [
    "forecast_col = 'Close'"
   ]
  },
  {
   "cell_type": "code",
   "execution_count": 6,
   "metadata": {},
   "outputs": [],
   "source": [
    "df = df[[forecast_col]]"
   ]
  },
  {
   "cell_type": "code",
   "execution_count": 7,
   "metadata": {},
   "outputs": [],
   "source": [
    "df.dropna(inplace = True)"
   ]
  },
  {
   "cell_type": "code",
   "execution_count": 8,
   "metadata": {},
   "outputs": [
    {
     "data": {
      "text/plain": [
       "array([[0.00163566],\n",
       "       [0.00149743],\n",
       "       [0.00131314],\n",
       "       ...,\n",
       "       [0.95422731],\n",
       "       [0.96490929],\n",
       "       [0.94808642]])"
      ]
     },
     "execution_count": 8,
     "metadata": {},
     "output_type": "execute_result"
    }
   ],
   "source": [
    "scaler = MinMaxScaler()\n",
    "\n",
    "data = scaler.fit_transform(df[forecast_col].values.reshape(df[forecast_col].shape[0], 1))\n",
    "data"
   ]
  },
  {
   "cell_type": "code",
   "execution_count": 9,
   "metadata": {},
   "outputs": [],
   "source": [
    "# def processData(dataframe, fc_col_name=forecast_col, lk_bk=2, fc_out=1, dropNAN = True):\n",
    "    \n",
    "#     for i in range(1, lk_bk):\n",
    "#         col_name = fc_col_name + '(' + str(-i) + ')'\n",
    "#         dataframe[col_name] = dataframe[fc_col_name].shift(i)\n",
    "        \n",
    "#     dataframe['Prediction'] = dataframe[fc_col_name].shift(-fc_out)\n",
    "    \n",
    "#     if(dropNAN):\n",
    "#         dataframe.dropna(inplace=True)\n",
    "    \n",
    "#     return dataframe\n",
    "\n",
    "def processData(data,lb):\n",
    "    X,Y = [],[]\n",
    "    for i in range(len(data)-lb-1):\n",
    "        X.append(data[i:(i+lb),0])\n",
    "        Y.append(data[(i+lb),0])\n",
    "    return np.array(X),np.array(Y)"
   ]
  },
  {
   "cell_type": "code",
   "execution_count": 10,
   "metadata": {},
   "outputs": [],
   "source": [
    "look_back = 14\n",
    "# forecast_out = 1\n",
    "X,y = processData(data,look_back)"
   ]
  },
  {
   "cell_type": "code",
   "execution_count": 11,
   "metadata": {},
   "outputs": [
    {
     "name": "stdout",
     "output_type": "stream",
     "text": [
      "(7564, 14, 1)\n",
      "(1891, 14, 1)\n",
      "(7564,)\n",
      "(1891,)\n"
     ]
    }
   ],
   "source": [
    "train_pct = 0.80\n",
    "\n",
    "X_train,X_test = X[:int(X.shape[0]*train_pct)],X[int(X.shape[0]*train_pct):]\n",
    "y_train,y_test = y[:int(y.shape[0]*train_pct)],y[int(y.shape[0]*train_pct):]\n",
    "\n",
    "#Reshape data into (Sample,Timestep,Features) \n",
    "X_train = X_train.reshape((X_train.shape[0],X_train.shape[1],1))\n",
    "X_test = X_test.reshape((X_test.shape[0],X_test.shape[1],1))\n",
    "\n",
    "print(X_train.shape)\n",
    "print(X_test.shape)\n",
    "print(y_train.shape)\n",
    "print(y_test.shape)"
   ]
  },
  {
   "cell_type": "code",
   "execution_count": 12,
   "metadata": {},
   "outputs": [],
   "source": [
    "\n",
    "adam = Adam(lr=0.003)\n",
    "\n",
    "file_path = './model_checkpoints/daily_lstm_model_weights.h5'\n",
    "\n",
    "callback_checkpoint = ModelCheckpoint(filepath=file_path,\n",
    "                                      monitor='val_loss',\n",
    "                                      save_best_only=True,\n",
    "                                      save_weights_only=True)\n",
    "\n",
    "early_stopping = EarlyStopping(monitor='val_loss', patience=10, verbose=1)\n",
    "\n",
    "reduce_lr = ReduceLROnPlateau(monitor='val_loss', factor=0.3,\n",
    "                              patience=5, min_lr=0.0009)\n",
    "\n",
    "callbacks = [early_stopping, callback_checkpoint, reduce_lr]\n",
    "\n",
    "model = Sequential()\n",
    "\n",
    "model.add(LSTM(32, input_shape=(X_train.shape[1], X_train.shape[2]), return_sequences=True))\n",
    "\n",
    "model.add(LSTM(16))\n",
    "\n",
    "model.add(Dense(1))\n",
    "\n",
    "model.compile(loss='mse', optimizer=adam)"
   ]
  },
  {
   "cell_type": "code",
   "execution_count": 13,
   "metadata": {
    "scrolled": true
   },
   "outputs": [
    {
     "name": "stdout",
     "output_type": "stream",
     "text": [
      "Train on 7564 samples, validate on 1891 samples\n",
      "Epoch 1/100\n",
      "7564/7564 [==============================] - 4s 516us/step - loss: 8.3663e-05 - val_loss: 0.0023\n",
      "Epoch 2/100\n",
      "7564/7564 [==============================] - 3s 377us/step - loss: 7.5321e-06 - val_loss: 9.3021e-04\n",
      "Epoch 3/100\n",
      "7564/7564 [==============================] - 3s 380us/step - loss: 1.1412e-05 - val_loss: 0.0026\n",
      "Epoch 4/100\n",
      "7564/7564 [==============================] - 3s 423us/step - loss: 7.4683e-06 - val_loss: 7.4730e-04\n",
      "Epoch 5/100\n",
      "7564/7564 [==============================] - 3s 351us/step - loss: 6.5790e-06 - val_loss: 7.0469e-04\n",
      "Epoch 6/100\n",
      "7564/7564 [==============================] - 3s 350us/step - loss: 6.8134e-06 - val_loss: 0.0023\n",
      "Epoch 7/100\n",
      "7564/7564 [==============================] - 3s 347us/step - loss: 4.5820e-06 - val_loss: 5.8730e-04\n",
      "Epoch 8/100\n",
      "7564/7564 [==============================] - 3s 348us/step - loss: 5.1804e-06 - val_loss: 3.7206e-04\n",
      "Epoch 9/100\n",
      "7564/7564 [==============================] - 2s 326us/step - loss: 5.2124e-06 - val_loss: 6.1847e-04\n",
      "Epoch 10/100\n",
      "7564/7564 [==============================] - 2s 327us/step - loss: 4.1569e-06 - val_loss: 4.7414e-04\n",
      "Epoch 11/100\n",
      "7564/7564 [==============================] - 3s 340us/step - loss: 3.4431e-06 - val_loss: 1.5487e-04\n",
      "Epoch 12/100\n",
      "7564/7564 [==============================] - 3s 334us/step - loss: 3.7434e-06 - val_loss: 1.7611e-04\n",
      "Epoch 13/100\n",
      "7564/7564 [==============================] - 3s 352us/step - loss: 3.9412e-06 - val_loss: 1.4501e-04\n",
      "Epoch 14/100\n",
      "7564/7564 [==============================] - 2s 316us/step - loss: 3.9783e-06 - val_loss: 2.3583e-04\n",
      "Epoch 15/100\n",
      "7564/7564 [==============================] - 3s 338us/step - loss: 2.9488e-06 - val_loss: 8.3996e-04\n",
      "Epoch 16/100\n",
      "7564/7564 [==============================] - 3s 357us/step - loss: 3.0923e-06 - val_loss: 1.0961e-04\n",
      "Epoch 17/100\n",
      "7564/7564 [==============================] - 3s 365us/step - loss: 1.8620e-06 - val_loss: 1.0578e-04\n",
      "Epoch 18/100\n",
      "7564/7564 [==============================] - 3s 361us/step - loss: 1.8238e-06 - val_loss: 1.8752e-04\n",
      "Epoch 19/100\n",
      "7564/7564 [==============================] - 3s 354us/step - loss: 1.8455e-06 - val_loss: 1.4638e-04\n",
      "Epoch 20/100\n",
      "7564/7564 [==============================] - 3s 356us/step - loss: 1.8127e-06 - val_loss: 9.1690e-05\n",
      "Epoch 21/100\n",
      "7564/7564 [==============================] - 3s 365us/step - loss: 1.7591e-06 - val_loss: 2.2649e-04\n",
      "Epoch 22/100\n",
      "7564/7564 [==============================] - 3s 374us/step - loss: 1.9252e-06 - val_loss: 9.8823e-05\n",
      "Epoch 23/100\n",
      "7564/7564 [==============================] - 3s 358us/step - loss: 2.0477e-06 - val_loss: 1.5761e-04\n",
      "Epoch 24/100\n",
      "7564/7564 [==============================] - 3s 413us/step - loss: 1.8426e-06 - val_loss: 8.9022e-05\n",
      "Epoch 25/100\n",
      "7564/7564 [==============================] - 4s 489us/step - loss: 1.6482e-06 - val_loss: 1.0992e-04\n",
      "Epoch 26/100\n",
      "7564/7564 [==============================] - 4s 491us/step - loss: 1.8718e-06 - val_loss: 1.2294e-04\n",
      "Epoch 27/100\n",
      "7564/7564 [==============================] - 4s 582us/step - loss: 1.9778e-06 - val_loss: 1.4755e-04\n",
      "Epoch 28/100\n",
      "7564/7564 [==============================] - 4s 545us/step - loss: 1.9705e-06 - val_loss: 8.1762e-05\n",
      "Epoch 29/100\n",
      "7564/7564 [==============================] - 4s 556us/step - loss: 1.6733e-06 - val_loss: 8.8690e-05\n",
      "Epoch 30/100\n",
      "7564/7564 [==============================] - 4s 502us/step - loss: 1.6403e-06 - val_loss: 9.8797e-05\n",
      "Epoch 31/100\n",
      "7564/7564 [==============================] - 4s 562us/step - loss: 1.7332e-06 - val_loss: 1.5294e-04\n",
      "Epoch 32/100\n",
      "7564/7564 [==============================] - 5s 602us/step - loss: 1.8781e-06 - val_loss: 8.8675e-05\n",
      "Epoch 33/100\n",
      "7564/7564 [==============================] - 5s 638us/step - loss: 1.8506e-06 - val_loss: 3.1590e-04\n",
      "Epoch 34/100\n",
      "7564/7564 [==============================] - 4s 472us/step - loss: 1.8188e-06 - val_loss: 8.5665e-05\n",
      "Epoch 35/100\n",
      "7564/7564 [==============================] - 3s 416us/step - loss: 1.7340e-06 - val_loss: 2.1573e-04\n",
      "Epoch 36/100\n",
      "7564/7564 [==============================] - 4s 464us/step - loss: 1.9022e-06 - val_loss: 9.6308e-05\n",
      "Epoch 37/100\n",
      "7564/7564 [==============================] - 3s 461us/step - loss: 1.7901e-06 - val_loss: 1.3048e-04\n",
      "Epoch 38/100\n",
      "7564/7564 [==============================] - 4s 572us/step - loss: 1.5924e-06 - val_loss: 8.2991e-05\n",
      "Epoch 00038: early stopping\n"
     ]
    }
   ],
   "source": [
    "history = model.fit(X_train, y_train, epochs=100, validation_data=(X_test, y_test), callbacks=callbacks, shuffle=True)"
   ]
  },
  {
   "cell_type": "code",
   "execution_count": 14,
   "metadata": {},
   "outputs": [
    {
     "data": {
      "image/png": "[encoded data removed]",
      "text/plain": [
       "<Figure size 432x288 with 1 Axes>"
      ]
     },
     "metadata": {},
     "output_type": "display_data"
    }
   ],
   "source": [
    "plt.plot(history.history['loss'], label='train')\n",
    "plt.plot(history.history['val_loss'], label='test')\n",
    "plt.legend()\n",
    "plt.show()"
   ]
  },
  {
   "cell_type": "code",
   "execution_count": 15,
   "metadata": {},
   "outputs": [],
   "source": [
    "model.load_weights(file_path)\n",
    "os.remove(file_path)"
   ]
  },
  {
   "cell_type": "code",
   "execution_count": 16,
   "metadata": {},
   "outputs": [],
   "source": [
    "def evaluate_model(trained_model, train, test, actual):\n",
    "\n",
    "    X_train_prediction = trained_model.predict(train)\n",
    "    X_test_prediction = trained_model.predict(test)\n",
    "\n",
    "    plt.figure(figsize=(20,10))\n",
    "\n",
    "    plt.plot(scaler.inverse_transform(actual.reshape(-1,1)), label=\"Actual\")\n",
    "    plt.plot(scaler.inverse_transform(X_train_prediction), label=\"Train\", alpha=0.8)\n",
    "    plt.plot(np.linspace(7565,7565 + len(X_test_prediction), len(X_test_prediction)), scaler.inverse_transform(X_test_prediction), label=\"Test\", color='orange', alpha=0.8)\n",
    "    plt.legend(fontsize=\"xx-large\")\n"
   ]
  },
  {
   "cell_type": "code",
   "execution_count": 17,
   "metadata": {},
   "outputs": [
    {
     "data": {
      "image/png": "[encoded data removed]",
      "text/plain": [
       "<Figure size 1440x720 with 1 Axes>"
      ]
     },
     "metadata": {},
     "output_type": "display_data"
    }
   ],
   "source": [
    "evaluate_model(model, X_train, X_test, y)"
   ]
  },
  {
   "cell_type": "code",
   "execution_count": 18,
   "metadata": {},
   "outputs": [],
   "source": [
    "def predict(input_value):\n",
    "\n",
    "    Xt = model.predict(input_value.reshape(1,look_back,1))\n",
    " \n",
    "    return scaler.inverse_transform(Xt)[0][0]"
   ]
  },
  {
   "cell_type": "code",
   "execution_count": 19,
   "metadata": {},
   "outputs": [
    {
     "name": "stdout",
     "output_type": "stream",
     "text": [
      "Predicted: 183.4869, Actual: 187.1800\n",
      "Accuracy:98.03%\n"
     ]
    }
   ],
   "source": [
    "i = X_test.shape[0] - 1\n",
    "\n",
    "# Make sure input is scaled\n",
    "prediction = predict(X_test[i])\n",
    "\n",
    "actual_value = scaler.inverse_transform(y_test[i].reshape(-1,1))[0][0]\n",
    "\n",
    "print('Predicted: {0:.4f}, Actual: {1:.4f}'.format(prediction, actual_value))\n",
    "\n",
    "accuracy = (prediction / actual_value) * 100\n",
    "\n",
    "print('Accuracy:{0:.2f}%'.format(accuracy))"
   ]
  },
  {
   "cell_type": "code",
   "execution_count": 20,
   "metadata": {},
   "outputs": [],
   "source": [
    "def save_model(model, filepath):\n",
    "    model.save(filepath) "
   ]
  },
  {
   "cell_type": "code",
   "execution_count": 21,
   "metadata": {},
   "outputs": [],
   "source": [
    "save_model(model, './model_checkpoints/daily_lstm_full_model.h5')"
   ]
  }
 ],
 "metadata": {
  "kernelspec": {
   "display_name": "Python 3",
   "language": "python",
   "name": "python3"
  },
  "language_info": {
   "codemirror_mode": {
    "name": "ipython",
    "version": 3
   },
   "file_extension": ".py",
   "mimetype": "text/x-python",
   "name": "python",
   "nbconvert_exporter": "python",
   "pygments_lexer": "ipython3",
   "version": "3.6.5"
  }
 },
 "nbformat": 4,
 "nbformat_minor": 2
}
